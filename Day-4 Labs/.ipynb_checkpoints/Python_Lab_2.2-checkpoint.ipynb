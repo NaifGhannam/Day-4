{
 "cells": [
  {
   "cell_type": "markdown",
   "metadata": {
    "id": "E9Y5ss1ZYj3r"
   },
   "source": [
    "# Python_Lab_2.2\n"
   ]
  },
  {
   "cell_type": "markdown",
   "metadata": {
    "id": "Q1kAqc72Yj3t"
   },
   "source": [
    "### Task 1\n",
    "1. Write a program that prompts the user to enter two numbers and prints their division. Handle cases where the user enters non-numeric values or attempts to divide by zero using a try-except block.\n"
   ]
  },
  {
   "cell_type": "code",
   "execution_count": 1,
   "metadata": {
    "id": "H-xyoRTVYj3t"
   },
   "outputs": [
    {
     "name": "stdin",
     "output_type": "stream",
     "text": [
      "Enter the first number:  10\n",
      "Enter the second number:  11\n"
     ]
    },
    {
     "name": "stdout",
     "output_type": "stream",
     "text": [
      "The result of dividing 10.0 by 11.0 is 0.9090909090909091\n"
     ]
    }
   ],
   "source": [
    "def divide_numbers():\n",
    "    try:\n",
    "        num1 = float(input(\"Enter the first number: \"))\n",
    "        num2 = float(input(\"Enter the second number: \"))\n",
    "        \n",
    "        result = num1 / num2\n",
    "        \n",
    "    except ValueError: \n",
    "        print(\"Invalid input. Please enter numeric values.\")\n",
    "    except ZeroDivisionError:\n",
    "        print(\"Error: Division by zero is not allowed.\")\n",
    "    else:\n",
    "        print(f\"The result of dividing {num1} by {num2} is {result}\")\n",
    "\n",
    "divide_numbers()\n"
   ]
  },
  {
   "cell_type": "markdown",
   "metadata": {
    "id": "CPWcDSC_Yj3u"
   },
   "source": [
    "### Task 2\n",
    "- Use \"Random\" library to do the following:\n",
    "    1. Create a list of random numbers using list comprehension.\n",
    "    2. Create a list of squares of the even numbers from random numbers using list comprehension.\n",
    "    3. Create a list of tuples (number, square) for random numbers using list comprehension."
   ]
  },
  {
   "cell_type": "code",
   "execution_count": 7,
   "metadata": {
    "id": "Yfq-i6CeYj3u"
   },
   "outputs": [
    {
     "name": "stdout",
     "output_type": "stream",
     "text": [
      "List of random numbers: [77, 4, 59, 31, 50, 37, 80, 71, 46, 79]\n",
      "List of squares of even numbers: [16, 2500, 6400, 2116]\n",
      "List of tuples (number, square): [(77, 5929), (4, 16), (59, 3481), (31, 961), (50, 2500), (37, 1369), (80, 6400), (71, 5041), (46, 2116), (79, 6241)]\n"
     ]
    }
   ],
   "source": [
    "import random\n",
    "\n",
    "random_numbers = [random.randint(1, 100) for _ in range(10)]\n",
    "print(\"List of random numbers:\", random_numbers)\n",
    "\n",
    "\n",
    "even_squares = [x**2 for x in random_numbers if x % 2 == 0]\n",
    "print(\"List of squares of even numbers:\", even_squares)\n",
    "\n",
    "number_square_tuples = [(x, x**2) for x in random_numbers]\n",
    "print(\"List of tuples (number, square):\", number_square_tuples)\n"
   ]
  },
  {
   "cell_type": "markdown",
   "metadata": {
    "id": "jYdOq46NYj3u"
   },
   "source": [
    "### Task 3\n",
    "- Create a dictionary where the keys are numbers from 1 to 5 and the values are list of their squares and cubes.\n",
    "\n",
    "  - **hint**: use dictionary of list comprehension.\n",
    "\n",
    "- Create a dictionary from two lists (one with keys and one with values) using dictionary comprehension.\n",
    "\n"
   ]
  },
  {
   "cell_type": "code",
   "execution_count": 17,
   "metadata": {
    "id": "IEnsiNmCYj3u"
   },
   "outputs": [
    {
     "name": "stdout",
     "output_type": "stream",
     "text": [
      "Dictionary of squares and cubes: {1: [1, 1], 2: [4, 8], 3: [9, 27], 4: [16, 64], 5: [25, 125]}\n",
      "Dictionary from two lists: {'naif': 23, 'nawaf': 18, 'faisl': 20, 'ali': 17, 'yahya': 25}\n"
     ]
    }
   ],
   "source": [
    "squares_and_cubes = {x: [x**2, x**3] for x in range(1, 6)}\n",
    "print(\"Dictionary of squares and cubes:\", squares_and_cubes)\n",
    "\n",
    "keys = ['naif', 'nawaf', 'faisl', 'ali', 'yahya']\n",
    "values = [23, 18, 20, 17, 25]\n",
    "\n",
    "dictionary_from_lists = {k: v for k, v in zip(keys, values)}\n",
    "print(\"Dictionary from two lists:\", dictionary_from_lists)\n"
   ]
  },
  {
   "cell_type": "markdown",
   "metadata": {
    "id": "6T9TCQ8SYj3v"
   },
   "source": [
    "### Task 4\n",
    "- Given a dictionary where keys are student names and values are lists of their scores, write a function that updates the scores of students who have achieved a perfect score (100) by adding a bonus of 5 points to each score. Use dictionary comprehension to achieve this.\n",
    "\n",
    "    - Implement the function add_bonus_to_perfect_scores(student_scores) that adds a bonus of 5 points to each score of students who have achieved a perfect score (100)."
   ]
  },
  {
   "cell_type": "code",
   "execution_count": 19,
   "metadata": {
    "id": "T3R_VsQpYj3v"
   },
   "outputs": [
    {
     "name": "stdout",
     "output_type": "stream",
     "text": [
      "Updated student scores: {'naif': [95, 105, 85], 'ali': [105, 105, 105], 'faisal': [70, 80, 90], 'yahya': [105, 95, 105]}\n"
     ]
    }
   ],
   "source": [
    "def add_bonus_to_perfect_scores(student_scores):\n",
    "    updated_scores = {student: [score + 5 if score == 100 else score for score in scores] \n",
    "                      for student, scores in student_scores.items()}\n",
    "    return updated_scores\n",
    "student_scores = {\n",
    "    \"naif\": [95, 100, 85],\n",
    "    \"ali\": [100, 100, 100],\n",
    "    \"faisal\": [70, 80, 90],\n",
    "    \"yahya\": [100, 95, 100]\n",
    "}\n",
    "\n",
    "updated_student_scores = add_bonus_to_perfect_scores(student_scores)\n",
    "print(\"Updated student scores:\", updated_student_scores)\n"
   ]
  },
  {
   "cell_type": "markdown",
   "metadata": {
    "id": "rJkOEFAwYj3v"
   },
   "source": []
  }
 ],
 "metadata": {
  "colab": {
   "provenance": []
  },
  "kernelspec": {
   "display_name": "Python 3 (ipykernel)",
   "language": "python",
   "name": "python3"
  },
  "language_info": {
   "codemirror_mode": {
    "name": "ipython",
    "version": 3
   },
   "file_extension": ".py",
   "mimetype": "text/x-python",
   "name": "python",
   "nbconvert_exporter": "python",
   "pygments_lexer": "ipython3",
   "version": "3.12.4"
  }
 },
 "nbformat": 4,
 "nbformat_minor": 4
}
